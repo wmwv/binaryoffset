{
 "cells": [
  {
   "cell_type": "markdown",
   "metadata": {},
   "source": [
    "# Utility functions to measure the effect on arbitrary data"
   ]
  },
  {
   "cell_type": "code",
   "execution_count": 1,
   "metadata": {
    "collapsed": true
   },
   "outputs": [],
   "source": [
    "%matplotlib inline"
   ]
  },
  {
   "cell_type": "code",
   "execution_count": 2,
   "metadata": {
    "collapsed": true
   },
   "outputs": [],
   "source": [
    "import matplotlib\n",
    "matplotlib.rcParams['figure.figsize'] = (12, 8)"
   ]
  },
  {
   "cell_type": "code",
   "execution_count": 27,
   "metadata": {
    "collapsed": false
   },
   "outputs": [],
   "source": [
    "import glob\n",
    "import os\n",
    "\n",
    "import numpy as np\n",
    "\n",
    "import sep\n",
    "\n",
    "from scipy.stats import sigmaclip\n",
    "from scipy.signal import convolve2d\n",
    "from matplotlib import pyplot as plt\n",
    "\n",
    "\n",
    "def subtract_background(data):\n",
    "    \"\"\"Subtract the background from data.\n",
    "    \n",
    "    We assume that we are working with a bias or dark frame, so we don't\n",
    "    have to worry about detecting and masking out objects.\n",
    "    \"\"\"\n",
    "    background = sep.Background(data)\n",
    "    \n",
    "    sub_data = data - background.back()\n",
    "    \n",
    "    return sub_data\n",
    "\n",
    "\n",
    "def build_cosmic_mask(data, num_sigma=5):\n",
    "    \"\"\"\n",
    "    Build a cosmic ray mask for a residual image.\n",
    "\n",
    "    This is a very naive algorithm. We are running on residuals, so we cut\n",
    "    anything that is 5 sigma high or low. We then mask by a couple pixels\n",
    "    around the cut too to capture the tail.\n",
    "    \"\"\"\n",
    "    target_nmad = nmad(data)\n",
    "    start_mask = np.abs(data - np.median(data)) > num_sigma * target_nmad\n",
    "\n",
    "    num_edge_pixels = 2\n",
    "    mask = ~(convolve2d(\n",
    "        start_mask,\n",
    "        np.ones((2*num_edge_pixels+1, 2*num_edge_pixels+1)),\n",
    "        mode='same'\n",
    "    ).astype(bool))\n",
    "\n",
    "    return mask\n",
    "\n",
    "\n",
    "def clipped_mean(data):\n",
    "    clip_data, min_clip, max_clip = sigmaclip(data)\n",
    "    \n",
    "    mean = np.mean(clip_data)\n",
    "    mean_err = np.std(clip_data) / np.sqrt(len(clip_data) - 1)\n",
    "\n",
    "    return mean, mean_err\n",
    "\n",
    "\n",
    "def nmad(data, *args, **kwargs):\n",
    "    return 1.4826 * np.median(\n",
    "        np.abs(np.asarray(data) - np.median(data, *args, **kwargs)),\n",
    "        *args, **kwargs\n",
    "    )\n",
    "\n",
    "_cache_num_ones = {}\n",
    "def cached_num_binary_ones(x):\n",
    "    try:\n",
    "        return _cache_num_ones[x]\n",
    "    except KeyError:\n",
    "        num_ones = _num_binary_ones(x)\n",
    "        _cache_num_ones[x] = num_ones\n",
    "        return num_ones\n",
    "\n",
    "def _num_binary_ones(x):\n",
    "    return bin(x).count('1')\n",
    "\n",
    "def calc_num_binary_ones(x):\n",
    "    x = np.atleast_1d(x)\n",
    "    out = np.zeros(x.shape)\n",
    "    for i in range(len(x.flat)):\n",
    "        out.flat[i] = cached_num_binary_ones(x.flat[i])\n",
    "    \n",
    "    return out\n",
    "\n",
    "\n",
    "def calculate_mean_residual(data, offset, do_diff=True, residuals=None, num_sigma=5,\n",
    "                            debug=False, **kwargs):\n",
    "    \"\"\"Calculate the mean residuals as a function of the value of a\n",
    "    reference pixel.\n",
    "    \n",
    "    This will return a list of raw pixel values and the average residuals\n",
    "    for pixels separated by \"offset\" from pixels with those values.\n",
    "    \n",
    "    If do_diff is True, we look at a difference between the offset in the left\n",
    "    direction and the right direction to cancel out effects like pickup.\n",
    "    Otherwise, we only look in the direction specified by offset.\n",
    "    \n",
    "    The sign of offset doesn't really matter if used in diff mode since the\n",
    "    positive and negative offsets will be subtracted from each other. However,\n",
    "    if do_diff is False then they do matter. I have not determined the\n",
    "    readout direction on each instrument tested here, so a positive offset may\n",
    "    or may not be in the readout direction.\n",
    "    \"\"\"\n",
    "    if residuals is None:\n",
    "        # If we weren't given residuals, just assume that the image is relatively\n",
    "        # flat and do a local background subtraction.\n",
    "        residuals = subtract_background(data.astype(float).copy())\n",
    "    \n",
    "    # We look at the difference in residuals from one side to the next.\n",
    "    ref_1 = np.roll(data, offset)\n",
    "    ref_2 = np.roll(data, -offset)\n",
    "    \n",
    "    # Generate a mask to filter out cosmic rays/bad pixels.\n",
    "    mask = build_cosmic_mask(data, num_sigma=num_sigma)\n",
    "    # build_cosmic_mask returned a _positive_ mask where entries that should be used are set to True\n",
    "    use_residuals = residuals[mask]\n",
    "    use_ref_1 = ref_1[mask]\n",
    "    use_ref_2 = ref_2[mask]\n",
    "\n",
    "    # Figure out which range of pixel values to probe.\n",
    "    min_values = np.percentile(data, 2)\n",
    "    max_values = np.percentile(data, 98)\n",
    "    pixel_values = np.arange(min_values, max_values+1)\n",
    "    if debug:\n",
    "        print(\"PIXEL VALUES: \", pixel_values[0], pixel_values[-1])\n",
    "    \n",
    "    residual_means_1 = []\n",
    "    residual_means_2 = []\n",
    "    residual_errs_1 = []\n",
    "    residual_errs_2 = []\n",
    "    \n",
    "    for pixel_value in pixel_values:\n",
    "        cut_1 = use_ref_1 == pixel_value\n",
    "        cut_2 = use_ref_2 == pixel_value\n",
    "        \n",
    "        # For each value that is found in at least 20 pixels we calculate a\n",
    "        # clipped mean of the residuals and estimate an error on it.\n",
    "        if np.sum(cut_1) > 20:\n",
    "            mean_1, mean_err_1 = clipped_mean(use_residuals[cut_1])\n",
    "        else:\n",
    "            mean_1 = -99\n",
    "            mean_err_1 = -99\n",
    "\n",
    "        \n",
    "        if np.sum(cut_2) > 20:\n",
    "            mean_2, mean_err_2 = clipped_mean(use_residuals[cut_2])\n",
    "        else:\n",
    "            mean_2 = -99\n",
    "            mean_err_2 = -99\n",
    "        \n",
    "        residual_means_1.append(mean_1)\n",
    "        residual_means_2.append(mean_2)\n",
    "        residual_errs_1.append(mean_err_1)\n",
    "        residual_errs_2.append(mean_err_2)\n",
    "        \n",
    "    residual_means_1 = np.array(residual_means_1)\n",
    "    residual_means_2 = np.array(residual_means_2)\n",
    "    residual_errs_1 = np.array(residual_errs_1)\n",
    "    residual_errs_2 = np.array(residual_errs_2)\n",
    "\n",
    "    # Calculate the difference in residuals in each direction. This is what\n",
    "    # we will look at to see if the binary offset effect is present since it\n",
    "    # is relatively clean.\n",
    "    if do_diff:\n",
    "        residual_means = residual_means_1 - residual_means_2\n",
    "        residual_errs = np.sqrt(residual_errs_1**2 + residual_errs_2**2)\n",
    "    else:\n",
    "        residual_means = residual_means_1\n",
    "        residual_errs = residual_errs_1\n",
    "    if debug:\n",
    "        print(\"RESIDUAL_MEANS: \", residual_means)\n",
    "        print(\"RESIDUAL_ERRS: \", residual_errs)\n",
    "    return pixel_values, residual_means, residual_errs\n",
    "\n",
    "def setup_figure():\n",
    "    #fig = plt.figure()\n",
    "    fig, (ax1, ax2) = plt.subplots(2, 1, sharex=True, gridspec_kw={'height_ratios': [2.5, 1], 'hspace': 0.})\n",
    "    \n",
    "    fig_parts = (fig, ax1, ax2)\n",
    "    \n",
    "    return fig_parts\n",
    "    \n",
    "    # fig.savefig(filename)\n",
    "\n",
    "def plot_mean_residual(data, offset, label=None, do_diff=True,\n",
    "                       residuals=None, fig_parts=None, **kwargs):\n",
    "    \"\"\"Plot the mean residuals calculated using calculate_mean_residual.\"\"\"\n",
    "    pixel_values, residual_means, residual_errs = \\\n",
    "        calculate_mean_residual(data, offset, do_diff=do_diff, residuals=residuals,\n",
    "                                **kwargs)\n",
    "    \n",
    "    if fig_parts is not None:\n",
    "        fig = fig_parts[0]\n",
    "        ax = fig_parts[1]\n",
    "    else:\n",
    "        fig = plt.gcf()\n",
    "        ax = fig.add_subplot(111)\n",
    "        xlabel = 'Value of driver pixel (ADU)'\n",
    "        ax.set_xlabel(xlabel)\n",
    "        \n",
    "        if offset == 1:\n",
    "            offset_label = '1 pixel'\n",
    "        else:\n",
    "            offset_label = '%d pixels' % offset\n",
    "        plt.ylabel('Mean residuals for an offset of %s (ADU)' % offset_label)\n",
    "    \n",
    "    ax.plot(pixel_values, residual_means, label=label)\n",
    "    ax.fill_between(\n",
    "        pixel_values,\n",
    "        residual_means-residual_errs,\n",
    "        residual_means+residual_errs,\n",
    "        alpha=0.2\n",
    "    )\n",
    "    \n",
    "    print('Median residual errors: %.4f' % np.median(residual_errs))\n",
    "    \n",
    "    # plt.ylabel('Mean residuals')\n",
    "    \n",
    "    return pixel_values\n",
    "\n",
    "def finalize_figure(fig_parts, show_bits=4, min_bits=0, max_bits=11, legend_loc=0):\n",
    "    fig, ax1, ax2 = fig_parts\n",
    "    label_bit_changes(show_bits, ax1)\n",
    "    labelled_locations = label_bit_changes(show_bits, ax2, legend=False)\n",
    "    \n",
    "    #ax1.set_ylim(-1.5, 1.5)\n",
    "    #ax1.set_xlim(1250, 1360)\n",
    "    #ax1.set_xlabel('Value of driver pixel (ADU)')\n",
    "    ax1.set_ylabel('Residuals (ADU)')\n",
    "    #ax1.set_title('')\n",
    "    #ax1.tick_params('y', colors='C0')\n",
    "    \n",
    "    xmin, xmax = ax1.get_xlim()\n",
    "    x = np.arange(int(np.floor(xmin)), int(np.ceil(xmax)))\n",
    "    \n",
    "    x_binary_count = calc_num_binary_ones(x)\n",
    "    ax2.plot(x, x_binary_count, c='C0', label='Number of \"1\" bits in binary representation')\n",
    "    #ax2.set_title('Number of ones in binary representation of driver pixel value')\n",
    "    ax2.set_ylabel('Number of \"1\" bits')\n",
    "    ax2.set_xlabel('Driver pixel value (ADU)')\n",
    "    ax2.set_ylim(min_bits, max_bits)\n",
    "    ax2.legend(loc=legend_loc)\n",
    "    \n",
    "    ax2.set_xticks(labelled_locations)\n",
    "    \n",
    "    ax1.legend()\n",
    "\n",
    "    \n",
    "def calc_num_bits(x):\n",
    "    return bin(int(x)).count('1')\n",
    "    \n",
    "def label_bit_changes(min_bits=4, axis=None, legend=True):\n",
    "    if axis is None:\n",
    "        axis = plt.gca()\n",
    "\n",
    "    x_lim = plt.gca().get_xlim()\n",
    "    x_start = int(np.floor(x_lim[0]))\n",
    "    x_end = int(np.ceil(x_lim[-1]))\n",
    "    \n",
    "    x_range = np.arange(x_start, x_end)\n",
    "    \n",
    "    first = True\n",
    "    labelled_locations = []\n",
    "    for x in x_range:\n",
    "        num_diff_bits = calc_num_bits(x ^ (x+1))\n",
    "        if num_diff_bits >= min_bits:\n",
    "            if first and legend:\n",
    "                label = 'Large binary transitions'\n",
    "                first = False\n",
    "            else:\n",
    "                label = None\n",
    "            axis.axvline(x+0.5, c='black', ls='--', alpha=0.2, label=label)\n",
    "        \n",
    "            labelled_locations.append(x + 0.5)\n",
    "    \n",
    "    return labelled_locations"
   ]
  },
  {
   "cell_type": "markdown",
   "metadata": {},
   "source": [
    "# Allegheny Observatory Keeler SBIG"
   ]
  },
  {
   "cell_type": "code",
   "execution_count": 4,
   "metadata": {
    "collapsed": true
   },
   "outputs": [
    {
     "name": "stdout",
     "output_type": "stream",
     "text": [
      "Processing /Volumes/PS1/STEPUP/2018-01-30/WDra-001B.fit\n",
      "PIXEL VALUES:  2029.0 2075.0\n",
      "Median residual errors: 0.0549\n",
      "Processing /Volumes/PS1/STEPUP/2018-01-30/WDra-002B.fit\n",
      "PIXEL VALUES:  2029.0 2075.0\n",
      "Median residual errors: 0.0541\n",
      "Processing /Volumes/PS1/STEPUP/2018-01-30/WDra-003B.fit\n",
      "PIXEL VALUES:  2028.0 2074.0\n",
      "Median residual errors: 0.0560\n",
      "Processing /Volumes/PS1/STEPUP/2018-01-30/WDra-004B.fit\n",
      "PIXEL VALUES:  2028.0 2073.0\n",
      "Median residual errors: 0.0542\n",
      "Processing /Volumes/PS1/STEPUP/2018-01-30/WDra-005B.fit\n",
      "PIXEL VALUES:  2027.0 2073.0\n",
      "Median residual errors: 0.0554\n",
      "Processing /Volumes/PS1/STEPUP/2018-01-30/WDra-006B.fit\n",
      "PIXEL VALUES:  2028.0 2073.0\n",
      "Median residual errors: 0.0547\n",
      "Processing /Volumes/PS1/STEPUP/2018-01-30/WDra-007B.fit\n",
      "PIXEL VALUES:  2027.0 2072.0\n",
      "Median residual errors: 0.0543\n",
      "Processing /Volumes/PS1/STEPUP/2018-01-30/WDra-008B.fit\n",
      "PIXEL VALUES:  2027.0 2072.0\n",
      "Median residual errors: 0.0550\n",
      "Processing /Volumes/PS1/STEPUP/2018-01-30/WDra-009B.fit\n",
      "PIXEL VALUES:  2027.0 2071.0\n",
      "Median residual errors: 0.0541\n",
      "Processing /Volumes/PS1/STEPUP/2018-01-30/WDra-010B.fit\n",
      "PIXEL VALUES:  2027.0 2072.0\n",
      "Median residual errors: 0.0550\n",
      "Processing /Volumes/PS1/STEPUP/2018-01-30/WDra-011B.fit\n",
      "PIXEL VALUES:  2027.0 2071.0\n",
      "Median residual errors: 0.0542\n"
     ]
    },
    {
     "data": {
      "image/png": "[encoded data removed]",
      "text/plain": [
       "<matplotlib.figure.Figure at 0x11509fcf8>"
      ]
     },
     "metadata": {},
     "output_type": "display_data"
    }
   ],
   "source": [
    "filenames = glob.glob('/Volumes/PS1/STEPUP/2018-01-30/*B.fit')\n",
    "fig_parts = setup_figure()\n",
    "# Seen for offset = 3 or 4\n",
    "offset = 3\n",
    "for filename in filenames:\n",
    "    print(\"Processing\", filename)\n",
    "    with fits.open(filename) as fits_file:\n",
    "        data = fits_file[0].data[:4096, :1024]\n",
    "        plot_mean_residual(data, offset, fig_parts=fig_parts)\n",
    "\n",
    "finalize_figure(fig_parts)"
   ]
  },
  {
   "cell_type": "code",
   "execution_count": null,
   "metadata": {
    "collapsed": false,
    "scrolled": false
   },
   "outputs": [],
   "source": [
    "filenames = glob.glob('/Volumes/PS1/STEPUP/2018-01-30/*B.fit')\n",
    "fig_parts = setup_figure()\n",
    "# Seen for offset = 3 or 4\n",
    "offset = 4\n",
    "for filename in filenames:\n",
    "    print(\"Processing\", filename)\n",
    "    with fits.open(filename) as fits_file:\n",
    "        data = fits_file[0].data[:4096, :1024]\n",
    "        plot_mean_residual(data, offset, fig_parts=fig_parts)\n",
    "\n",
    "finalize_figure(fig_parts)"
   ]
  },
  {
   "cell_type": "code",
   "execution_count": null,
   "metadata": {
    "collapsed": false
   },
   "outputs": [],
   "source": [
    "np.shape(data)"
   ]
  },
  {
   "cell_type": "code",
   "execution_count": null,
   "metadata": {
    "collapsed": false,
    "scrolled": false
   },
   "outputs": [],
   "source": [
    "print(\"Median: \", np.median(data))\n",
    "print(\"Mean: \", np.mean(data))\n",
    "print(\"Sigma: \", np.std(data))"
   ]
  },
  {
   "cell_type": "markdown",
   "metadata": {},
   "source": [
    "# WIYN WHIRC"
   ]
  },
  {
   "cell_type": "code",
   "execution_count": 5,
   "metadata": {
    "collapsed": false,
    "scrolled": false
   },
   "outputs": [
    {
     "name": "stdout",
     "output_type": "stream",
     "text": [
      "Processing /Volumes/PS1/SweetSpot/workspace/20141227/01.nonlincorr/dark_001.fits\n",
      "PIXEL VALUES:  -10.999984741210938 55.00001525878906\n",
      "RESIDUAL_MEANS:  [-0.06691511         nan         nan         nan         nan         nan\n",
      "         nan         nan         nan         nan         nan         nan\n",
      "         nan         nan         nan         nan         nan         nan\n",
      "         nan         nan         nan         nan -0.00550104         nan\n",
      "         nan         nan         nan         nan         nan         nan\n",
      "         nan         nan         nan         nan         nan         nan\n",
      "         nan         nan         nan         nan         nan         nan\n",
      "         nan         nan         nan         nan         nan         nan\n",
      "         nan         nan         nan         nan         nan         nan\n",
      "         nan         nan         nan         nan         nan         nan\n",
      "         nan         nan         nan         nan         nan         nan\n",
      "         nan]\n",
      "RESIDUAL_ERRS:  [0.07030699        nan        nan        nan        nan        nan\n",
      "        nan        nan        nan        nan        nan        nan\n",
      "        nan        nan        nan        nan        nan        nan\n",
      "        nan        nan        nan        nan 0.0398208         nan\n",
      "        nan        nan        nan        nan        nan        nan\n",
      "        nan        nan        nan        nan        nan        nan\n",
      "        nan        nan        nan        nan        nan        nan\n",
      "        nan        nan        nan        nan        nan        nan\n",
      "        nan        nan        nan        nan        nan        nan\n",
      "        nan        nan        nan        nan        nan        nan\n",
      "        nan        nan        nan        nan        nan        nan\n",
      "        nan]\n",
      "Median residual errors: nan\n"
     ]
    },
    {
     "name": "stderr",
     "output_type": "stream",
     "text": [
      "/usr/local/lib/python3.6/site-packages/numpy/lib/function_base.py:4033: RuntimeWarning: Invalid value encountered in median\n",
      "  r = func(a, **kwargs)\n"
     ]
    },
    {
     "data": {
      "image/png": "[encoded data removed]",
      "text/plain": [
       "<matplotlib.figure.Figure at 0x10f83d898>"
      ]
     },
     "metadata": {},
     "output_type": "display_data"
    }
   ],
   "source": [
    "dirname = '/Volumes/PS1/SweetSpot/workspace/20141227/01.nonlincorr/'\n",
    "darks = range(1, 11)\n",
    "H_lamp_off_flats = range(12, 22)\n",
    "H_lamp_on_flats = range(23, 33)\n",
    "J_lamp_off_flats = range(34, 44)\n",
    "J_lamp_on_flats = range(45, 55)\n",
    "\n",
    "J_lamp_off_flats = [J_lamp_off_flats[0]]\n",
    "J_lamp_on_flats = [J_lamp_on_flats[0]]\n",
    "\n",
    "basename = [\"flat_{:03d}.fits\".format(s) for s in J_lamp_off_flats]\n",
    "\n",
    "basename = [\"dark_{:03d}.fits\".format(s) for s in darks[0:1]]\n",
    "filenames = [os.path.join(dirname, b) for b in basename]\n",
    "\n",
    "fig_parts = setup_figure()\n",
    "# Seen for offset = 3 or 4\n",
    "offset = 4\n",
    "for filename in filenames:\n",
    "    print(\"Processing\", filename)\n",
    "    with fits.open(filename) as fits_file:\n",
    "        data = fits_file[0].data[:2048, :2048]\n",
    "        plot_mean_residual(data, offset, fig_parts=fig_parts, debug=True)\n",
    "\n",
    "finalize_figure(fig_parts)"
   ]
  },
  {
   "cell_type": "code",
   "execution_count": 6,
   "metadata": {
    "collapsed": false
   },
   "outputs": [
    {
     "data": {
      "text/plain": [
       "(2048, 2048)"
      ]
     },
     "execution_count": 6,
     "metadata": {},
     "output_type": "execute_result"
    }
   ],
   "source": [
    "fits_file = fits.open(filename)\n",
    "data = fits_file[0].data\n",
    "np.shape(data)"
   ]
  },
  {
   "cell_type": "code",
   "execution_count": 28,
   "metadata": {
    "collapsed": false
   },
   "outputs": [],
   "source": [
    "pixel_values, residual_means, residual_errs = calculate_mean_residual(data, offset=2, num_sigma=5)"
   ]
  },
  {
   "cell_type": "code",
   "execution_count": 29,
   "metadata": {},
   "outputs": [
    {
     "name": "stdout",
     "output_type": "stream",
     "text": [
      "[-0.19594733 -1.         -1.         -1.         -1.         -1.\n",
      " -1.         -1.         -1.         -1.         -1.         -1.\n",
      " -1.         -1.         -1.         -1.         -1.         -1.\n",
      " -1.         -1.         -1.         -1.          0.03671402 -1.\n",
      " -1.         -1.         -1.         -1.         -1.         -1.\n",
      " -1.         -1.         -1.         -1.         -1.         -1.\n",
      " -1.         -1.         -1.         -1.         -1.         -1.\n",
      " -1.         -1.         -1.         -1.         -1.         -1.\n",
      " -1.         -1.         -1.         -1.         -1.         -1.\n",
      " -1.         -1.         -1.         -1.         -1.         -1.\n",
      " -1.         -1.         -1.         -1.         -1.         -1.\n",
      " -1.        ]\n"
     ]
    }
   ],
   "source": [
    "print(residual_means)"
   ]
  },
  {
   "cell_type": "code",
   "execution_count": 8,
   "metadata": {
    "collapsed": false
   },
   "outputs": [
    {
     "name": "stdout",
     "output_type": "stream",
     "text": [
      "2\n"
     ]
    }
   ],
   "source": [
    "w, = np.where(np.isfinite(residual_means))\n",
    "print(len(w))\n"
   ]
  },
  {
   "cell_type": "code",
   "execution_count": 9,
   "metadata": {
    "collapsed": false
   },
   "outputs": [
    {
     "name": "stdout",
     "output_type": "stream",
     "text": [
      "[-10.99998474  11.00001526]\n"
     ]
    }
   ],
   "source": [
    "print(pixel_values[w])"
   ]
  },
  {
   "cell_type": "code",
   "execution_count": 10,
   "metadata": {
    "collapsed": false
   },
   "outputs": [],
   "source": [
    "hist, bin_edges = np.histogram(data, bins=np.arange(10111, 14327))"
   ]
  },
  {
   "cell_type": "code",
   "execution_count": 11,
   "metadata": {
    "collapsed": false
   },
   "outputs": [
    {
     "name": "stdout",
     "output_type": "stream",
     "text": [
      "Median:  12.000019\n",
      "Mean:  15.655648\n",
      "Sigma:  63.93492\n"
     ]
    }
   ],
   "source": [
    "print(\"Median: \", np.median(data))\n",
    "print(\"Mean: \", np.mean(data))\n",
    "print(\"Sigma: \", np.std(data))"
   ]
  },
  {
   "cell_type": "code",
   "execution_count": 13,
   "metadata": {
    "collapsed": true
   },
   "outputs": [],
   "source": [
    "mask = build_cosmic_mask(data, num_sigma=5)"
   ]
  },
  {
   "cell_type": "markdown",
   "metadata": {},
   "source": [
    "# SNIFS R"
   ]
  },
  {
   "cell_type": "code",
   "execution_count": null,
   "metadata": {
    "collapsed": false
   },
   "outputs": [],
   "source": [
    "filenames = glob.glob('./data/snifs_r/*.fits')\n",
    "fig_parts = setup_figure()\n",
    "for filename in filenames:\n",
    "    print(\"Processing\", filename)\n",
    "    with fits.open(filename) as fits_file:\n",
    "        data = fits_file[0].data[:4096, :1024]\n",
    "        plot_mean_residual(data, 2, fig_parts=fig_parts)\n",
    "\n",
    "finalize_figure(fig_parts, max_bits=10)"
   ]
  },
  {
   "cell_type": "markdown",
   "metadata": {},
   "source": [
    "# SNIFS B"
   ]
  },
  {
   "cell_type": "code",
   "execution_count": null,
   "metadata": {
    "collapsed": false
   },
   "outputs": [],
   "source": [
    "filenames = glob.glob('./data/snifs_b/*.fits')\n",
    "fig_parts = setup_figure()\n",
    "\n",
    "for filename in filenames:\n",
    "    print(\"Processing\", filename)\n",
    "    with fits.open(filename) as fits_file:\n",
    "        data = fits_file[1].data[:4096, 3:1027]\n",
    "        plot_mean_residual(data, 2, fig_parts=fig_parts)\n",
    "        \n",
    "finalize_figure(fig_parts)"
   ]
  },
  {
   "cell_type": "markdown",
   "metadata": {},
   "source": [
    "# CFHT Megacam"
   ]
  },
  {
   "cell_type": "code",
   "execution_count": null,
   "metadata": {
    "collapsed": false
   },
   "outputs": [],
   "source": [
    "filename = './data/megacam/test_bias_1.fits.fz'\n",
    "fig_parts = setup_figure()\n",
    "#for index in range(1, 41):\n",
    "for index in [1, 7, 21, 23]:\n",
    "    with fits.open(filename) as fits_file:\n",
    "        data = fits_file[index].data[:, :1056]\n",
    "        \n",
    "        # Filter for a subset of images in a region where the effect\n",
    "        # is very prominent. I ran this originally and selected the\n",
    "        # images with bias levels in this range to speed things up.\n",
    "        if np.median(data) < 1270 or np.median(data) > 1290:\n",
    "            continue\n",
    "            \n",
    "        print(\"Processing index %d\" % index)\n",
    "\n",
    "        plot_mean_residual(data, 1, fig_parts=fig_parts)\n",
    "\n",
    "finalize_figure(fig_parts, legend_loc=1, max_bits=14)\n",
    "\n",
    "# Note: we are plotting the data from multiple amplifiers here.\n",
    "# The sign and amplitude of the binary offset effect changes from\n",
    "# amplifier to amplifier."
   ]
  },
  {
   "cell_type": "markdown",
   "metadata": {},
   "source": [
    "# Keck DEIMOS"
   ]
  },
  {
   "cell_type": "code",
   "execution_count": null,
   "metadata": {
    "collapsed": false
   },
   "outputs": [],
   "source": [
    "filenames = glob.glob('./data/deimos/*.fits.gz')\n",
    "fig_parts = setup_figure()\n",
    "for filename in filenames:\n",
    "    index = 4\n",
    "    print(\"Processing\", filename)\n",
    "    with fits.open(filename) as fits_file:\n",
    "        data = fits_file[index].data\n",
    "        targ_name = filename.split('/')[-1][:-8]\n",
    "        plot_mean_residual(data, 2, label=targ_name, fig_parts=fig_parts)\n",
    "\n",
    "# plt.xlim(1000, 1040)\n",
    "finalize_figure(fig_parts, show_bits=4, legend_loc=3, min_bits=-5)\n",
    "\n",
    "plt.savefig('./binary_offset_deimos.pdf')"
   ]
  },
  {
   "cell_type": "markdown",
   "metadata": {},
   "source": [
    "# Keck HIRES"
   ]
  },
  {
   "cell_type": "code",
   "execution_count": null,
   "metadata": {
    "collapsed": false
   },
   "outputs": [],
   "source": [
    "filenames = glob.glob('./data/keck_hires/*.fits')\n",
    "fig_parts = setup_figure()\n",
    "for filename in filenames:\n",
    "    index = 3\n",
    "    print(\"Processing\", filename)\n",
    "    with fits.open(filename) as fits_file:\n",
    "        data = fits_file[index].data\n",
    "        plot_mean_residual(data, 2, fig_parts=fig_parts)\n",
    "\n",
    "finalize_figure(fig_parts, max_bits=9)"
   ]
  },
  {
   "cell_type": "markdown",
   "metadata": {},
   "source": [
    "# Keck LRIS B"
   ]
  },
  {
   "cell_type": "code",
   "execution_count": null,
   "metadata": {
    "collapsed": false
   },
   "outputs": [],
   "source": [
    "filenames = glob.glob('./data/lris_b/*.fits')\n",
    "fig_parts = setup_figure()\n",
    "for filename in filenames:\n",
    "    index = 3\n",
    "    print(\"Processing\", filename)\n",
    "    with fits.open(filename) as fits_file:\n",
    "        data = fits_file[index].data[:2500, :]\n",
    "        plot_mean_residual(data, 2, fig_parts=fig_parts)\n",
    "\n",
    "finalize_figure(fig_parts, show_bits=4)\n",
    "\n",
    "plt.xlim(1295, 1325);\n",
    "fig_parts[1].set_ylim(-0.2, 0.2);"
   ]
  },
  {
   "cell_type": "markdown",
   "metadata": {},
   "source": [
    "# Keck LRIS R"
   ]
  },
  {
   "cell_type": "code",
   "execution_count": null,
   "metadata": {
    "collapsed": false
   },
   "outputs": [],
   "source": [
    "filenames = glob.glob('./data/lris_r/*.fits')\n",
    "fig_parts = setup_figure()\n",
    "for filename in filenames:\n",
    "    index = 1\n",
    "    print(\"Processing\", filename)\n",
    "    with fits.open(filename) as fits_file:\n",
    "        data = fits_file[index].data\n",
    "        plot_mean_residual(data, 2, fig_parts=fig_parts)\n",
    "\n",
    "finalize_figure(fig_parts, show_bits=4, min_bits=3, max_bits=10)\n"
   ]
  },
  {
   "cell_type": "markdown",
   "metadata": {},
   "source": [
    "# SDSS"
   ]
  },
  {
   "cell_type": "code",
   "execution_count": null,
   "metadata": {
    "collapsed": false
   },
   "outputs": [],
   "source": [
    "filenames = glob.glob('./data/sdss/idR-003459-i2-0008.fits')\n",
    "fig_parts = setup_figure()\n",
    "for filename in filenames:\n",
    "    print(\"Processing\", filename)\n",
    "    with fits.open(filename) as fits_file:\n",
    "        data = fits_file[0].data[:, 70:1060]\n",
    "        plot_mean_residual(data, 1, fig_parts=fig_parts)\n",
    "\n",
    "finalize_figure(fig_parts)\n",
    "\n",
    "# No evidence of the binary offset effect here... notice the scale."
   ]
  },
  {
   "cell_type": "markdown",
   "metadata": {},
   "source": [
    "# HST WFC3 UVIS"
   ]
  },
  {
   "cell_type": "code",
   "execution_count": null,
   "metadata": {
    "collapsed": false
   },
   "outputs": [],
   "source": [
    "filenames = glob.glob('./data/hst_uvis/*.fits')\n",
    "fig_parts = setup_figure()\n",
    "for filename in filenames:\n",
    "    index = 4\n",
    "    print(\"Processing\", filename)\n",
    "    with fits.open(filename) as fits_file:\n",
    "        data = fits_file[index].data[:, 2110:]\n",
    "        plot_mean_residual(data, 1, fig_parts=fig_parts)\n",
    "\n",
    "finalize_figure(fig_parts, legend_loc=3, min_bits=-3)"
   ]
  },
  {
   "cell_type": "markdown",
   "metadata": {},
   "source": [
    "# HST STIS"
   ]
  },
  {
   "cell_type": "code",
   "execution_count": null,
   "metadata": {
    "collapsed": false,
    "scrolled": false
   },
   "outputs": [],
   "source": [
    "filenames = glob.glob('./data/hst_stis_2/*.fits')\n",
    "fig_parts = setup_figure()\n",
    "for filename in filenames:\n",
    "    index = 1\n",
    "    #print(\"Processing\", filename)\n",
    "    with fits.open(filename) as fits_file:\n",
    "        data = fits_file[index].data\n",
    "        plot_mean_residual(data, 1, fig_parts=fig_parts)\n",
    "\n",
    "finalize_figure(fig_parts)\n",
    "\n",
    "# Note: the amplitude varies quite a bit for the different STIS images.\n",
    "# Here we show a range of different bias locations. The next image shows a zoom-in\n",
    "# on the most extreme case."
   ]
  },
  {
   "cell_type": "code",
   "execution_count": null,
   "metadata": {
    "collapsed": false
   },
   "outputs": [],
   "source": [
    "filenames = glob.glob('./data/hst_stis_2/*.fits')\n",
    "fig_parts = setup_figure()\n",
    "num_plotted = 0\n",
    "for filename in filenames:\n",
    "    index = 1\n",
    "    #print(\"Processing\", filename)\n",
    "    with fits.open(filename) as fits_file:\n",
    "        data = fits_file[index].data\n",
    "        if np.median(data) > 1360 or np.median(data) < 1300:\n",
    "            continue\n",
    "\n",
    "        print(\"Processing\", filename)\n",
    "        plot_mean_residual(data, 1, label=fits_file[0].header['ROOTNAME'], fig_parts=fig_parts)\n",
    "        #print(fits_file[0].header['CCDGAIN'])\n",
    "        \n",
    "        num_plotted += 1        \n",
    "        if num_plotted >= 3:\n",
    "            break\n",
    "\n",
    "plt.xlim(1310, 1375)\n",
    "            \n",
    "finalize_figure(fig_parts, max_bits=13)\n",
    "\n",
    "# Zoom in on the most extreme STIS behavior observed.\n",
    "\n",
    "plt.savefig('./binary_offset_stis.pdf')"
   ]
  },
  {
   "cell_type": "code",
   "execution_count": null,
   "metadata": {
    "collapsed": true
   },
   "outputs": [],
   "source": [
    "plt.savefig('./binary_offset_stis.pdf')"
   ]
  },
  {
   "cell_type": "markdown",
   "metadata": {},
   "source": [
    "# HST ACS"
   ]
  },
  {
   "cell_type": "code",
   "execution_count": null,
   "metadata": {
    "collapsed": false,
    "scrolled": false
   },
   "outputs": [],
   "source": [
    "filenames = glob.glob('./data/hst_acs/*.fits')\n",
    "fig_parts = setup_figure()\n",
    "for filename in filenames[:3]:\n",
    "    index = 1\n",
    "    print(\"Processing\", filename)\n",
    "    with fits.open(filename) as fits_file:\n",
    "        data = fits_file[index].data[:, :2048]\n",
    "        plot_mean_residual(data, 1, label=fits_file[0].header['ROOTNAME'], fig_parts=fig_parts)\n",
    "\n",
    "finalize_figure(fig_parts, max_bits=9)\n",
    "\n",
    "# ACS behaves very strangely. We find oscillating residuals that seem\n",
    "# to only depend on the 0th bit. However, at the binary transition\n",
    "# at 2463-2464 there is a large step in the residuals.\n",
    "\n",
    "plt.savefig('./binary_offset_hst_acs.pdf')"
   ]
  },
  {
   "cell_type": "markdown",
   "metadata": {},
   "source": [
    "# VLT FORS 1"
   ]
  },
  {
   "cell_type": "code",
   "execution_count": null,
   "metadata": {
    "collapsed": false
   },
   "outputs": [],
   "source": [
    "filenames = glob.glob('./data/vlt_fors_1/*.fits')\n",
    "fig_parts = setup_figure()\n",
    "for filename in filenames:\n",
    "    index = 0\n",
    "    print(\"Processing\", filename)\n",
    "    with fits.open(filename) as fits_file:\n",
    "        data = fits_file[index].data.T\n",
    "        plot_mean_residual(data, 1, fig_parts=fig_parts)\n",
    "\n",
    "finalize_figure(fig_parts, max_bits=8, show_bits=4)"
   ]
  },
  {
   "cell_type": "markdown",
   "metadata": {},
   "source": [
    "# VLT FORS 2"
   ]
  },
  {
   "cell_type": "code",
   "execution_count": null,
   "metadata": {
    "collapsed": false
   },
   "outputs": [],
   "source": [
    "filenames = glob.glob('./data/vlt_fors_2/*.fits')\n",
    "fig_parts = setup_figure()\n",
    "for filename in filenames:\n",
    "    index = 0\n",
    "    print(\"Processing\", filename)\n",
    "    with fits.open(filename) as fits_file:\n",
    "        data = fits_file[index].data.T\n",
    "        plot_mean_residual(data, 1, label=fits_file[0].header['DATE'], fig_parts=fig_parts)\n",
    "\n",
    "finalize_figure(fig_parts, max_bits=9)"
   ]
  },
  {
   "cell_type": "markdown",
   "metadata": {},
   "source": [
    "# VLT MUSE"
   ]
  },
  {
   "cell_type": "code",
   "execution_count": null,
   "metadata": {
    "collapsed": false
   },
   "outputs": [],
   "source": [
    "filenames = glob.glob('./data/vlt_muse/*.fits.fz')\n",
    "fig_parts = setup_figure()\n",
    "for filename in filenames:\n",
    "    index = 3\n",
    "    print(\"Processing\", filename)\n",
    "    with fits.open(filename) as fits_file:\n",
    "        data = fits_file[index].data[:2100, :2100]\n",
    "        plot_mean_residual(data, 1, fig_parts=fig_parts)\n",
    "\n",
    "finalize_figure(fig_parts, min_bits=3, max_bits=10)\n",
    "\n",
    "# No evidence of the binary offset effect, residuals are smooth. The slope\n",
    "# here is probably due to some other form of directed correlations between\n",
    "# pixels."
   ]
  },
  {
   "cell_type": "markdown",
   "metadata": {},
   "source": [
    "# Kepler"
   ]
  },
  {
   "cell_type": "code",
   "execution_count": null,
   "metadata": {
    "collapsed": false,
    "scrolled": false
   },
   "outputs": [],
   "source": [
    "filenames = glob.glob('./data/kepler/*.fits')\n",
    "fig_parts = setup_figure()\n",
    "for filename in filenames:\n",
    "#filename = filenames[0]\n",
    "#for index in range(1, 81):\n",
    "    index = 53\n",
    "    print(\"Processing\", filename)\n",
    "    with fits.open(filename) as fits_file:\n",
    "        data = fits_file[index].data[:, 1110:]\n",
    "        #print(index, nmad(data))\n",
    "        plot_mean_residual(data, 3, fig_parts=fig_parts)\n",
    "\n",
    "finalize_figure(fig_parts, min_bits=5, max_bits=17)\n",
    "\n",
    "# I was unable to find a bias or flat image for Kepler. Instead, I'm\n",
    "# just looking at the overscan region on the edge of some of the FFI\n",
    "# images. Unfortunately this region is too small and noisy to really\n",
    "# say anything meaningful."
   ]
  },
  {
   "cell_type": "markdown",
   "metadata": {},
   "source": [
    "# Gemini GMOS-S Hamamatsu (post 2014)"
   ]
  },
  {
   "cell_type": "code",
   "execution_count": null,
   "metadata": {
    "collapsed": false
   },
   "outputs": [],
   "source": [
    "filenames = glob.glob('./data/gemini_gmos_s_hamamatsu/*.fits')\n",
    "fig_parts = setup_figure()\n",
    "for filename in filenames:\n",
    "    index = 3\n",
    "    print(\"Processing\", filename)\n",
    "    with fits.open(filename) as fits_file:\n",
    "        data = fits_file[index].data\n",
    "        plot_mean_residual(data, 2, fig_parts=fig_parts)\n",
    "\n",
    "finalize_figure(fig_parts)\n",
    "\n",
    "# No effect seen"
   ]
  },
  {
   "cell_type": "markdown",
   "metadata": {},
   "source": [
    "# Gemini GMOS-S E2V (pre 2014)"
   ]
  },
  {
   "cell_type": "code",
   "execution_count": null,
   "metadata": {
    "collapsed": false
   },
   "outputs": [],
   "source": [
    "filenames = glob.glob('./data/gemini_gmos_s_e2v/*.fits')\n",
    "fig_parts = setup_figure()\n",
    "for filename in filenames:\n",
    "    index = 2\n",
    "    print(\"Processing\", filename)\n",
    "    with fits.open(filename) as fits_file:\n",
    "        data = fits_file[index].data\n",
    "        plot_mean_residual(data, 2, fig_parts=fig_parts)\n",
    "\n",
    "finalize_figure(fig_parts)"
   ]
  },
  {
   "cell_type": "markdown",
   "metadata": {},
   "source": [
    "# Gemini GMOS-N Hamamatsu (post 2017)"
   ]
  },
  {
   "cell_type": "code",
   "execution_count": null,
   "metadata": {
    "collapsed": false
   },
   "outputs": [],
   "source": [
    "filenames = glob.glob('./data/gemini_gmos_n_hamamatsu/*.fits')\n",
    "fig_parts = setup_figure()\n",
    "for filename in filenames:\n",
    "    index = 6\n",
    "    print(\"Processing\", filename)\n",
    "    with fits.open(filename) as fits_file:\n",
    "        data = fits_file[index].data[120:, 20:]\n",
    "        plot_mean_residual(data, 1, fig_parts=fig_parts)\n",
    "\n",
    "finalize_figure(fig_parts, max_bits=13)\n",
    "\n",
    "# No effect seen"
   ]
  },
  {
   "cell_type": "markdown",
   "metadata": {},
   "source": [
    "# Gemini GMOS-N E2V (pre 2017)"
   ]
  },
  {
   "cell_type": "code",
   "execution_count": null,
   "metadata": {
    "collapsed": false
   },
   "outputs": [],
   "source": [
    "filenames = glob.glob('./data/gemini_gmos_n_e2v/*.fits')\n",
    "fig_parts = setup_figure()\n",
    "for filename in filenames:\n",
    "    index = 2\n",
    "    print(\"Processing\", filename)\n",
    "    with fits.open(filename) as fits_file:\n",
    "        data = fits_file[index].data\n",
    "        plot_mean_residual(data, 2, fig_parts=fig_parts)\n",
    "\n",
    "finalize_figure(fig_parts)"
   ]
  },
  {
   "cell_type": "markdown",
   "metadata": {},
   "source": [
    "# Blanco DECam"
   ]
  },
  {
   "cell_type": "code",
   "execution_count": null,
   "metadata": {
    "collapsed": false
   },
   "outputs": [],
   "source": [
    "filenames = glob.glob('./data/blanco_decam/dec009765.fits.fz')\n",
    "fig_parts = setup_figure()\n",
    "for filename in filenames:\n",
    "    index = 2\n",
    "    print(\"Processing\", filename)\n",
    "    with fits.open(filename) as fits_file:\n",
    "        data = fits_file[index].data[:, 1024:]\n",
    "        plot_mean_residual(data, 2, fig_parts=fig_parts)\n",
    "\n",
    "finalize_figure(fig_parts)\n",
    "\n",
    "fig_parts[1].set_ylim(-0.5, 0.5)\n",
    "\n",
    "# No effect seen"
   ]
  },
  {
   "cell_type": "markdown",
   "metadata": {},
   "source": [
    "# Subaru Hyper Suprime-Cam"
   ]
  },
  {
   "cell_type": "code",
   "execution_count": null,
   "metadata": {
    "collapsed": false
   },
   "outputs": [],
   "source": [
    "filenames = sorted(glob.glob('./data/subaru_hsc/*.fits'))\n",
    "fig_parts = setup_figure()\n",
    "for filename in filenames:\n",
    "    index = 0\n",
    "    print(\"Processing\", filename)\n",
    "    with fits.open(filename) as fits_file:\n",
    "        for chip_section in range(4):\n",
    "            # print(\"Chip %d\" % chip_section)\n",
    "            data = fits_file[index].data[:, chip_section*536+20:(chip_section+1)*536-20]\n",
    "            \n",
    "            # Cut to a representative sample for display purposes.\n",
    "            if np.median(data) > 1455 or np.median(data) < 1420:\n",
    "                continue\n",
    "                \n",
    "            plot_mean_residual(data, 1, label=fits_file[0].header['FRAMEID'], fig_parts=fig_parts)\n",
    "\n",
    "finalize_figure(fig_parts, show_bits=4, max_bits=9)\n",
    "\n",
    "plt.xlim(1420, 1455)\n",
    "\n",
    "# The residuals are definitely correlated with the LSB here. There doesn't seem\n",
    "# to be a trend with the higher bits though. I zoomed in on a selection of images.\n",
    "# Zoom out to see more.\n",
    "\n",
    "plt.savefig('./binary_offset_subaru_hsc.pdf')"
   ]
  },
  {
   "cell_type": "code",
   "execution_count": null,
   "metadata": {
    "collapsed": true
   },
   "outputs": [],
   "source": [
    "plt.savefig('./binary_offset_subaru_hsc.pdf')"
   ]
  },
  {
   "cell_type": "markdown",
   "metadata": {},
   "source": [
    "# Subaru Suprime-Cam"
   ]
  },
  {
   "cell_type": "code",
   "execution_count": null,
   "metadata": {
    "collapsed": false
   },
   "outputs": [],
   "source": [
    "filenames = glob.glob('./data/subaru_sc/*.fits')\n",
    "fig_parts = setup_figure()\n",
    "for filename in filenames:\n",
    "    index = 0\n",
    "    print(\"Processing\", filename)\n",
    "    with fits.open(filename) as fits_file:\n",
    "        for chip_section in range(4):\n",
    "            data = fits_file[index].data[:, chip_section*568:(chip_section+1)*568]\n",
    "            plot_mean_residual(data, 1, fig_parts=fig_parts)\n",
    "\n",
    "finalize_figure(fig_parts)\n",
    "\n",
    "# There is some interesting structure in the residuals, but it is smoothly\n",
    "# varying. This is not the binary offset effect."
   ]
  },
  {
   "cell_type": "markdown",
   "metadata": {},
   "source": [
    "# Subaru Focas"
   ]
  },
  {
   "cell_type": "code",
   "execution_count": null,
   "metadata": {
    "collapsed": false
   },
   "outputs": [],
   "source": [
    "filenames = glob.glob('./data/subaru_focas/*.fits')\n",
    "fig_parts = setup_figure()\n",
    "for filename in filenames:\n",
    "    index = 0\n",
    "    print(\"Processing\", filename)\n",
    "    with fits.open(filename) as fits_file:\n",
    "        chip_section = 0\n",
    "        #for chip_section in range(4):\n",
    "        data = fits_file[index].data[:, chip_section*276:(chip_section+1)*276]\n",
    "        plot_mean_residual(data, 2, fig_parts=fig_parts)\n",
    "\n",
    "finalize_figure(fig_parts)\n",
    "\n",
    "# Evidence of an effect based on the LSB. However, it is not always\n",
    "# present."
   ]
  },
  {
   "cell_type": "markdown",
   "metadata": {},
   "source": [
    "# WHT OASIS"
   ]
  },
  {
   "cell_type": "code",
   "execution_count": null,
   "metadata": {
    "collapsed": false
   },
   "outputs": [],
   "source": [
    "filenames = glob.glob('./data/wht_oasis/*.fits')\n",
    "file_06 = fits.open('./data/wht_oasis/471086t.fits')\n",
    "file_120 = fits.open('./data/wht_oasis/471197t.fits')\n",
    "file_300 = fits.open('./data/wht_oasis/471230t.fits')\n",
    "\n",
    "data_06 = file_06[0].data\n",
    "data_120 = file_120[0].data\n",
    "data_300 = file_300[0].data\n",
    "\n",
    "sub_06 = data_06 - np.median(data_06[:, -40:])\n",
    "sub_120 = data_120 - np.median(data_120[:, -40:])\n",
    "sub_300 = data_300 - np.median(data_300[:, -40:])\n",
    "\n",
    "# These aren't very clean...\n",
    "\n",
    "\n",
    "residuals_06 = sub_06 - sub_300 * 0.6 / 300\n",
    "residuals_120 = sub_120 - sub_300 * 120 / 300\n",
    "\n",
    "fig_parts = setup_figure()\n",
    "plot_mean_residual(data_06, 1, residuals=residuals_06, fig_parts=fig_parts)\n",
    "plot_mean_residual(data_120, 1, residuals=residuals_120, fig_parts=fig_parts)\n",
    "\n",
    "finalize_figure(fig_parts)\n",
    "\n",
    "# Nothing obvious going on."
   ]
  },
  {
   "cell_type": "markdown",
   "metadata": {},
   "source": [
    "# Subaru HSC advanced tests"
   ]
  },
  {
   "cell_type": "code",
   "execution_count": null,
   "metadata": {
    "collapsed": true
   },
   "outputs": [],
   "source": [
    "filename = './data/subaru_hsc/HSCA00138013.fits'\n",
    "\n",
    "with fits.open(filename) as fits_file:\n",
    "    data = fits_file[0].data[:, 20:516]\n",
    "\n",
    "sub_data = subtract_background(data.astype(float).copy())"
   ]
  },
  {
   "cell_type": "code",
   "execution_count": null,
   "metadata": {
    "collapsed": false
   },
   "outputs": [],
   "source": [
    "# Is there is a real difference for HSC between two adjacent pixel values?\n",
    "# 1425 and 1427 have the same distribution of residuals, but 1426 is very\n",
    "# different.\n",
    "plt.figure();\n",
    "\n",
    "plt.hist(sub_data[np.roll(data, 1) == 1425], 20, range=(-10, 10), edgecolor='C0', fill=False, label='T-1 = 1425', histtype='step', normed=True);\n",
    "plt.hist(sub_data[np.roll(data, 1) == 1426], 20, range=(-10, 10), edgecolor='C1', fill=False, label='T-1 = 1426', histtype='step', normed=True);\n",
    "plt.hist(sub_data[np.roll(data, 1) == 1427], 20, range=(-10, 10), edgecolor='C2', fill=False, label='T-1 = 1427', histtype='step', normed=True);\n",
    "\n",
    "plt.xlabel('Residuals of target pixel on CCD')\n",
    "plt.ylabel('Fraction of occurences')\n",
    "plt.legend()"
   ]
  },
  {
   "cell_type": "code",
   "execution_count": null,
   "metadata": {
    "collapsed": false
   },
   "outputs": [],
   "source": [
    "# Do specific values appear more often on a specific row or column?\n",
    "# No evidence that this is the case.\n",
    "plt.figure()\n",
    "for i in [1425, 1426, 1427]:\n",
    "    plt.plot(np.sum((np.roll(data, 1) == i), axis=1), label='T-1 = %d' % i)\n",
    "    \n",
    "plt.legend()"
   ]
  },
  {
   "cell_type": "code",
   "execution_count": null,
   "metadata": {
    "collapsed": true
   },
   "outputs": [],
   "source": []
  }
 ],
 "metadata": {
  "kernelspec": {
   "display_name": "Python 3",
   "language": "python",
   "name": "python3"
  },
  "language_info": {
   "codemirror_mode": {
    "name": "ipython",
    "version": 3
   },
   "file_extension": ".py",
   "mimetype": "text/x-python",
   "name": "python",
   "nbconvert_exporter": "python",
   "pygments_lexer": "ipython3",
   "version": "3.6.3"
  }
 },
 "nbformat": 4,
 "nbformat_minor": 2
}
